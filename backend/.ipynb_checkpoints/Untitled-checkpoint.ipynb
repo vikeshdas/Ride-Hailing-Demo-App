{
 "cells": [
  {
   "cell_type": "code",
   "execution_count": 2,
   "id": "6d92aa1d",
   "metadata": {},
   "outputs": [],
   "source": [
    "lst=[[],[]]\n",
    "lst[0]=[1]\n"
   ]
  },
  {
   "cell_type": "code",
   "execution_count": 14,
   "id": "51c50075",
   "metadata": {},
   "outputs": [],
   "source": [
    "import sys"
   ]
  },
  {
   "cell_type": "code",
   "execution_count": 21,
   "id": "07294977",
   "metadata": {},
   "outputs": [],
   "source": [
    "import heapq\n"
   ]
  },
  {
   "cell_type": "code",
   "execution_count": 10,
   "id": "9dfd881b",
   "metadata": {},
   "outputs": [
    {
     "ename": "NameError",
     "evalue": "name 'tolist' is not defined",
     "output_type": "error",
     "traceback": [
      "\u001b[0;31m---------------------------------------------------------------------------\u001b[0m",
      "\u001b[0;31mNameError\u001b[0m                                 Traceback (most recent call last)",
      "Input \u001b[0;32mIn [10]\u001b[0m, in \u001b[0;36m<cell line: 1>\u001b[0;34m()\u001b[0m\n\u001b[0;32m----> 1\u001b[0m lst\u001b[38;5;241m=\u001b[39mlst\u001b[38;5;241m+\u001b[39m\u001b[43mtolist\u001b[49m(\u001b[38;5;241m5\u001b[39m)\n",
      "\u001b[0;31mNameError\u001b[0m: name 'tolist' is not defined"
     ]
    }
   ],
   "source": [
    "lst=lst+tolist(5)"
   ]
  },
  {
   "cell_type": "code",
   "execution_count": 2,
   "id": "6cf03a65",
   "metadata": {},
   "outputs": [],
   "source": [
    "lst=[1,2,3,4]"
   ]
  },
  {
   "cell_type": "code",
   "execution_count": 4,
   "id": "e8a6b141",
   "metadata": {},
   "outputs": [
    {
     "data": {
      "text/plain": [
       "int"
      ]
     },
     "execution_count": 4,
     "metadata": {},
     "output_type": "execute_result"
    }
   ],
   "source": [
    "type(lst[0])"
   ]
  },
  {
   "cell_type": "code",
   "execution_count": 5,
   "id": "f82a155b",
   "metadata": {},
   "outputs": [],
   "source": [
    "import heapq"
   ]
  },
  {
   "cell_type": "code",
   "execution_count": 8,
   "id": "79e62380",
   "metadata": {},
   "outputs": [],
   "source": [
    "lst=[1]"
   ]
  },
  {
   "cell_type": "code",
   "execution_count": 9,
   "id": "0792ba84",
   "metadata": {},
   "outputs": [
    {
     "data": {
      "text/plain": [
       "[1]"
      ]
     },
     "execution_count": 9,
     "metadata": {},
     "output_type": "execute_result"
    }
   ],
   "source": [
    "lst"
   ]
  },
  {
   "cell_type": "code",
   "execution_count": 10,
   "id": "2a015c76",
   "metadata": {},
   "outputs": [
    {
     "data": {
      "text/plain": [
       "list"
      ]
     },
     "execution_count": 10,
     "metadata": {},
     "output_type": "execute_result"
    }
   ],
   "source": [
    "type(lst)"
   ]
  },
  {
   "cell_type": "code",
   "execution_count": 11,
   "id": "97c46d57",
   "metadata": {},
   "outputs": [
    {
     "ename": "TypeError",
     "evalue": "int() argument must be a string, a bytes-like object or a number, not 'list'",
     "output_type": "error",
     "traceback": [
      "\u001b[0;31m---------------------------------------------------------------------------\u001b[0m",
      "\u001b[0;31mTypeError\u001b[0m                                 Traceback (most recent call last)",
      "Input \u001b[0;32mIn [11]\u001b[0m, in \u001b[0;36m<cell line: 1>\u001b[0;34m()\u001b[0m\n\u001b[0;32m----> 1\u001b[0m lst\u001b[38;5;241m=\u001b[39m\u001b[38;5;28;43mint\u001b[39;49m\u001b[43m(\u001b[49m\u001b[43mlst\u001b[49m\u001b[43m)\u001b[49m\n",
      "\u001b[0;31mTypeError\u001b[0m: int() argument must be a string, a bytes-like object or a number, not 'list'"
     ]
    }
   ],
   "source": [
    "lst=int(lst)"
   ]
  },
  {
   "cell_type": "code",
   "execution_count": 1,
   "id": "99c81c4d",
   "metadata": {},
   "outputs": [],
   "source": [
    "def minDistance(distance, visited, vertices):\n",
    "    min = 2147483647\n",
    "    minVertex = 0\n",
    "    for v in range(vertices):\n",
    "        if (visited[v] == False and distance[v] <= min):\n",
    "            min = distance[v]\n",
    "            minVertex = v\n",
    "\n",
    "    return minVertex\n",
    "\n",
    "\n",
    "def dijkstraHelper(matrix, vertices, source):\n",
    "    distance = [2147483647] * vertices\n",
    "    visited = [False] * vertices\n",
    "\n",
    "    # Distance of source to itself is 0.\n",
    "    distance[source] = 0\n",
    "\n",
    "    for i in range(vertices):\n",
    "        u = minDistance(distance, visited, vertices)\n",
    "        # Mark the current vertex as visited.\n",
    "        visited[u] = True\n",
    "        # Update the distances of the adjacent nodes.\n",
    "        for v in range(vertices):\n",
    "            if (not visited[v] and matrix[u][v] and distance[u] != 2147483647 and distance[u] + matrix[u][v] < distance[v]):\n",
    "                distance[v] = distance[u] + matrix[u][v]\n",
    "\n",
    "    print(distance)\n",
    "\n"
   ]
  },
  {
   "cell_type": "code",
   "execution_count": 4,
   "id": "dfd0111b",
   "metadata": {},
   "outputs": [],
   "source": [
    "graph = [[0,10,4,7,11],[10,0,1,5,2],[4,7,0,1,5],[3,5,1,0,3],[11,2,5,3,0]]"
   ]
  },
  {
   "cell_type": "code",
   "execution_count": 13,
   "id": "fb5dbf96",
   "metadata": {},
   "outputs": [
    {
     "name": "stdout",
     "output_type": "stream",
     "text": [
      "[4, 6, 0, 1, 4]\n"
     ]
    }
   ],
   "source": [
    "dijkstraHelper(graph,5,2)"
   ]
  },
  {
   "cell_type": "code",
   "execution_count": null,
   "id": "1aa4f3ed",
   "metadata": {},
   "outputs": [],
   "source": []
  },
  {
   "cell_type": "code",
   "execution_count": 71,
   "id": "75150076",
   "metadata": {},
   "outputs": [],
   "source": [
    "        def minDistance(dist,queue):\n",
    "            # Initialize min value and min_index as -1\n",
    "            minimum = float(\"Inf\")\n",
    "            min_index = -1\n",
    "            \n",
    "            for i in range(len(dist)):\n",
    "                if dist[i] < minimum and i in queue:\n",
    "                    minimum = dist[i]\n",
    "                    min_index = i\n",
    "            return min_index\n",
    "\n",
    "        def ditkshtra(graph, v, src,end):\n",
    " \n",
    "            row = v\n",
    "            col = v\n",
    "            diameter=200\n",
    "            cab=[sys.maxsize]*4\n",
    "            print(\"type of cab\",type(cab))\n",
    "            heapInd=0\n",
    "            # The output array. dist[i] will hold\n",
    "            # the shortest distance from src to i\n",
    "            # Initialize all distances as INFINITE\n",
    "            dist = [float(\"Inf\")] * row\n",
    "            print(\"type of dist\",type(dist))\n",
    "    \n",
    "            #Parent array to store\n",
    "            # shortest path tree\n",
    "            parent = [-1] * row\n",
    "    \n",
    "            # Distance of source vertex\n",
    "            # from itself is always 0\n",
    "            dist[src] = 0\n",
    "        \n",
    "            # Add all vertices in queue\n",
    "            queue = []\n",
    "            for i in range(row):\n",
    "                queue.append(i)\n",
    "                \n",
    "            #Find shortest path for all vertices\n",
    "            while queue:\n",
    "    \n",
    "                # Pick the minimum dist vertex\n",
    "                # from the set of vertices\n",
    "                # still in queue\n",
    "                u = minDistance(dist,queue)\n",
    "    \n",
    "                # remove min element    \n",
    "                queue.remove(u)\n",
    "    \n",
    "                # Update dist value and parent\n",
    "                # index of the adjacent vertices of\n",
    "                # the picked vertex. Consider only\n",
    "                # those vertices which are still in\n",
    "                # queue\n",
    "                for i in range(col):\n",
    "                    if graph[u][i] and i in queue:\n",
    "                        if dist[u] + graph[u][i] < dist[i]:\n",
    "                            dist[i] = dist[u] + graph[u][i]\n",
    "                            parent[i] = u\n",
    "\n",
    "                            # cab\n",
    "                            largest=heapq.nlargest(1,cab)\n",
    "                            largest=largest[0]\n",
    "                            if dist[i] < diameter:\n",
    "                                if heapInd < len(cab):\n",
    "                                    cab[heapInd] = dist[i]\n",
    "                                    heapInd += 1\n",
    "    \n",
    "                                elif heapInd >= len(cab) and dist[i]< largest:\n",
    "                                    num = largest\n",
    "                                    indx = cab.index(num)\n",
    "                                    cab[indx] = dist[i]\n",
    "    \n",
    "    \n",
    "            # print the constructed distance array\n",
    "            # self.printSolution(dist,parent)\n",
    "            return cab,dist,heapInd,parent \n",
    "        \n",
    "        lst=numpy.array([])\n",
    "        newArray=numpy.array([])\n",
    "        def printPath(parent, j):\n",
    "         \n",
    "            #Base Case : If j is source\n",
    "            if parent[j] == -1 :\n",
    "                print(j,end=\"->\")\n",
    "                newArray=numpy.append (lst, [j])\n",
    "                lst=newArray\n",
    "                return\n",
    "            printPath(parent , parent[j])\n",
    "            print (j,end=\"->\")\n",
    "            newArray=numpy.append (lst, [j])\n",
    "            lst=newArray"
   ]
  },
  {
   "cell_type": "code",
   "execution_count": 72,
   "id": "dea223b3",
   "metadata": {},
   "outputs": [],
   "source": [
    "graph=[[0, 182, 289, 5,  51, 177,  74,  50, 154, 183],\n",
    " [172,   0,  60,  97, 258, 201, 232, 267, 156,  53],\n",
    " [221, 215,   0, 250,  66,  48,  78, 141, 295, 176],\n",
    " [275, 196, 249,   0, 113,  37, 284, 291,   4,  19],\n",
    " [234, 122, 249, 160,   0,  86, 140,   4, 150,   8],\n",
    " [21, 106, 209,  63,  27,   0, 216, 235, 139,  61],\n",
    " [205, 209, 206, 124, 188, 183,   0, 216, 115, 123],\n",
    " [263, 260,  44,  16, 152,   9,  67,   0, 192, 140],\n",
    " [101, 141, 212, 218, 140, 217,   7,  75,   0,  22],\n",
    " [26, 174, 138, 158, 292,  90, 190, 219,  15,   0]]\n"
   ]
  },
  {
   "cell_type": "code",
   "execution_count": 73,
   "id": "eee4ad67",
   "metadata": {},
   "outputs": [
    {
     "data": {
      "text/plain": [
       "[[0, 182, 289, 5, 51, 177, 74, 50, 154, 183],\n",
       " [172, 0, 60, 97, 258, 201, 232, 267, 156, 53],\n",
       " [221, 215, 0, 250, 66, 48, 78, 141, 295, 176],\n",
       " [275, 196, 249, 0, 113, 37, 284, 291, 4, 19],\n",
       " [234, 122, 249, 160, 0, 86, 140, 4, 150, 8],\n",
       " [21, 106, 209, 63, 27, 0, 216, 235, 139, 61],\n",
       " [205, 209, 206, 124, 188, 183, 0, 216, 115, 123],\n",
       " [263, 260, 44, 16, 152, 9, 67, 0, 192, 140],\n",
       " [101, 141, 212, 218, 140, 217, 7, 75, 0, 22],\n",
       " [26, 174, 138, 158, 292, 90, 190, 219, 15, 0]]"
      ]
     },
     "execution_count": 73,
     "metadata": {},
     "output_type": "execute_result"
    }
   ],
   "source": [
    "graph"
   ]
  },
  {
   "cell_type": "code",
   "execution_count": 74,
   "id": "a270f92b",
   "metadata": {},
   "outputs": [
    {
     "name": "stdout",
     "output_type": "stream",
     "text": [
      "type of cab <class 'list'>\n",
      "type of dist <class 'list'>\n",
      "0->"
     ]
    },
    {
     "ename": "UnboundLocalError",
     "evalue": "local variable 'lst' referenced before assignment",
     "output_type": "error",
     "traceback": [
      "\u001b[0;31m---------------------------------------------------------------------------\u001b[0m",
      "\u001b[0;31mUnboundLocalError\u001b[0m                         Traceback (most recent call last)",
      "Input \u001b[0;32mIn [74]\u001b[0m, in \u001b[0;36m<cell line: 2>\u001b[0;34m()\u001b[0m\n\u001b[1;32m      1\u001b[0m cab,sortdist,heapInd,Path\u001b[38;5;241m=\u001b[39mditkshtra(graph, \u001b[38;5;241m9\u001b[39m, \u001b[38;5;241m0\u001b[39m, \u001b[38;5;241m6\u001b[39m)\n\u001b[0;32m----> 2\u001b[0m Path\u001b[38;5;241m=\u001b[39m\u001b[43mprintPath\u001b[49m\u001b[43m(\u001b[49m\u001b[43mPath\u001b[49m\u001b[43m,\u001b[49m\u001b[43m \u001b[49m\u001b[38;5;241;43m8\u001b[39;49m\u001b[43m)\u001b[49m\n",
      "Input \u001b[0;32mIn [71]\u001b[0m, in \u001b[0;36mprintPath\u001b[0;34m(parent, j)\u001b[0m\n\u001b[1;32m     86\u001b[0m     lst\u001b[38;5;241m=\u001b[39mnewArray\n\u001b[1;32m     87\u001b[0m     \u001b[38;5;28;01mreturn\u001b[39;00m\n\u001b[0;32m---> 88\u001b[0m \u001b[43mprintPath\u001b[49m\u001b[43m(\u001b[49m\u001b[43mparent\u001b[49m\u001b[43m \u001b[49m\u001b[43m,\u001b[49m\u001b[43m \u001b[49m\u001b[43mparent\u001b[49m\u001b[43m[\u001b[49m\u001b[43mj\u001b[49m\u001b[43m]\u001b[49m\u001b[43m)\u001b[49m\n\u001b[1;32m     89\u001b[0m \u001b[38;5;28mprint\u001b[39m (j,end\u001b[38;5;241m=\u001b[39m\u001b[38;5;124m\"\u001b[39m\u001b[38;5;124m->\u001b[39m\u001b[38;5;124m\"\u001b[39m)\n\u001b[1;32m     90\u001b[0m newArray\u001b[38;5;241m=\u001b[39mnumpy\u001b[38;5;241m.\u001b[39mappend (lst, [j])\n",
      "Input \u001b[0;32mIn [71]\u001b[0m, in \u001b[0;36mprintPath\u001b[0;34m(parent, j)\u001b[0m\n\u001b[1;32m     86\u001b[0m     lst\u001b[38;5;241m=\u001b[39mnewArray\n\u001b[1;32m     87\u001b[0m     \u001b[38;5;28;01mreturn\u001b[39;00m\n\u001b[0;32m---> 88\u001b[0m \u001b[43mprintPath\u001b[49m\u001b[43m(\u001b[49m\u001b[43mparent\u001b[49m\u001b[43m \u001b[49m\u001b[43m,\u001b[49m\u001b[43m \u001b[49m\u001b[43mparent\u001b[49m\u001b[43m[\u001b[49m\u001b[43mj\u001b[49m\u001b[43m]\u001b[49m\u001b[43m)\u001b[49m\n\u001b[1;32m     89\u001b[0m \u001b[38;5;28mprint\u001b[39m (j,end\u001b[38;5;241m=\u001b[39m\u001b[38;5;124m\"\u001b[39m\u001b[38;5;124m->\u001b[39m\u001b[38;5;124m\"\u001b[39m)\n\u001b[1;32m     90\u001b[0m newArray\u001b[38;5;241m=\u001b[39mnumpy\u001b[38;5;241m.\u001b[39mappend (lst, [j])\n",
      "Input \u001b[0;32mIn [71]\u001b[0m, in \u001b[0;36mprintPath\u001b[0;34m(parent, j)\u001b[0m\n\u001b[1;32m     83\u001b[0m \u001b[38;5;28;01mif\u001b[39;00m parent[j] \u001b[38;5;241m==\u001b[39m \u001b[38;5;241m-\u001b[39m\u001b[38;5;241m1\u001b[39m :\n\u001b[1;32m     84\u001b[0m     \u001b[38;5;28mprint\u001b[39m(j,end\u001b[38;5;241m=\u001b[39m\u001b[38;5;124m\"\u001b[39m\u001b[38;5;124m->\u001b[39m\u001b[38;5;124m\"\u001b[39m)\n\u001b[0;32m---> 85\u001b[0m     newArray\u001b[38;5;241m=\u001b[39mnumpy\u001b[38;5;241m.\u001b[39mappend (\u001b[43mlst\u001b[49m, [j])\n\u001b[1;32m     86\u001b[0m     lst\u001b[38;5;241m=\u001b[39mnewArray\n\u001b[1;32m     87\u001b[0m     \u001b[38;5;28;01mreturn\u001b[39;00m\n",
      "\u001b[0;31mUnboundLocalError\u001b[0m: local variable 'lst' referenced before assignment"
     ]
    }
   ],
   "source": [
    "cab,sortdist,heapInd,Path=ditkshtra(graph, 9, 0, 6)\n",
    "Path=printPath(Path, 8)"
   ]
  },
  {
   "cell_type": "code",
   "execution_count": 61,
   "id": "b9345a01",
   "metadata": {},
   "outputs": [
    {
     "data": {
      "text/plain": [
       "[-1, 5, 7, 0, 0, 3, 8, 0, 3]"
      ]
     },
     "execution_count": 61,
     "metadata": {},
     "output_type": "execute_result"
    }
   ],
   "source": [
    "Path"
   ]
  },
  {
   "cell_type": "code",
   "execution_count": null,
   "id": "eee77b7d",
   "metadata": {},
   "outputs": [],
   "source": []
  },
  {
   "cell_type": "code",
   "execution_count": null,
   "id": "ff7b0611",
   "metadata": {},
   "outputs": [],
   "source": []
  }
 ],
 "metadata": {
  "kernelspec": {
   "display_name": "Python 3 (ipykernel)",
   "language": "python",
   "name": "python3"
  },
  "language_info": {
   "codemirror_mode": {
    "name": "ipython",
    "version": 3
   },
   "file_extension": ".py",
   "mimetype": "text/x-python",
   "name": "python",
   "nbconvert_exporter": "python",
   "pygments_lexer": "ipython3",
   "version": "3.9.12"
  }
 },
 "nbformat": 4,
 "nbformat_minor": 5
}

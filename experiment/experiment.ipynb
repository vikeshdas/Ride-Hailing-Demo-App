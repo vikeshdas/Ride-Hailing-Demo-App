{
 "cells": [
  {
   "cell_type": "code",
   "execution_count": 3,
   "id": "ae5465cb",
   "metadata": {},
   "outputs": [],
   "source": [
    "import numpy as np"
   ]
  },
  {
   "cell_type": "code",
   "execution_count": 2,
   "id": "63361892",
   "metadata": {},
   "outputs": [],
   "source": [
    "import sys\n",
    "import heapq"
   ]
  },
  {
   "cell_type": "code",
   "execution_count": 3,
   "id": "f893e2b7",
   "metadata": {},
   "outputs": [],
   "source": [
    "v=10\n",
    "diameter=200\n",
    "cab=[sys.maxsize]*4\n",
    "heapInd=0\n",
    "graph=np.random.randint(0,500, size=(v, v))\n",
    "heapq.heapify(cab)\n",
    "start=1\n",
    "end=5"
   ]
  },
  {
   "cell_type": "code",
   "execution_count": 4,
   "id": "8d931085",
   "metadata": {
    "scrolled": true
   },
   "outputs": [
    {
     "name": "stdout",
     "output_type": "stream",
     "text": [
      "[[492  70 473 253 391 385   9  86 279  68]\n",
      " [236 100 136 297 240 213  38   9  84  11]\n",
      " [ 52 103 238 300 262   0 244 389 179  96]\n",
      " [180 164  61 223 418 317 387 359 177  32]\n",
      " [285 152 439 273  46 300 402 166 326  98]\n",
      " [397 449 289 250 274  81 266 418 306 445]\n",
      " [285 495 396 352  43 471 274 218 121  87]\n",
      " [ 35 445 400 330 388   1 355 120 268 331]\n",
      " [360  52 209 170 204 365 431 315 268 179]\n",
      " [485 398 401 409 219 425 206 426  93  47]]\n"
     ]
    }
   ],
   "source": [
    "print(graph)"
   ]
  },
  {
   "cell_type": "code",
   "execution_count": 5,
   "id": "bc091e6c",
   "metadata": {
    "scrolled": true
   },
   "outputs": [
    {
     "name": "stdout",
     "output_type": "stream",
     "text": [
      "[44, 0, 136, 254, 81, 10, 38, 9, 84, 11]\n",
      "[11, 38, 9, 10]\n"
     ]
    }
   ],
   "source": [
    "dist = [sys.maxsize] *v\n",
    "visited=[False] *v\n",
    "dist[start]=0\n",
    "\n",
    "#visited[start]=True\n",
    "for i in range(v):\n",
    "    index=0\n",
    "    mini=sys.maxsize\n",
    "    for u in range (v):\n",
    "        if dist[u]<mini and visited[u]==False:\n",
    "            mini=dist[u]\n",
    "            index=u  \n",
    "                  \n",
    "       \n",
    "    visited[index]=True\n",
    "    for j in range(v):\n",
    "        if graph[index][j]!=0 and visited[j]==False and dist[j]>(dist[index] + graph[index][j]):\n",
    "            dist[j]=(dist[index] + graph[index][j])\n",
    "            \n",
    "            #cab\n",
    "            if dist[j]<diameter:\n",
    "                if heapInd<len(cab):\n",
    "                    \n",
    "                    cab[heapInd]=dist[j]\n",
    "                    heapInd+=1\n",
    "                elif heapInd>=len(cab) and dist[j]<heapq.nlargest(1,cab):\n",
    "                    num=heapq.nlargest(1,cab)\n",
    "                    indx=cab.index(num)\n",
    "                    cab[indx]=dist[j] \n",
    "       \n",
    "            \n",
    "            \n",
    "        \n",
    "print(dist)\n",
    "print(cab)   "
   ]
  },
  {
   "cell_type": "code",
   "execution_count": 6,
   "id": "16b9c000",
   "metadata": {},
   "outputs": [
    {
     "name": "stdout",
     "output_type": "stream",
     "text": [
      "[9, 10, 11, 38]\n"
     ]
    }
   ],
   "source": [
    "n=len(cab)\n",
    "cabDistance=0\n",
    "heapq.heapify(cab)\n",
    "print(cab)"
   ]
  },
  {
   "cell_type": "code",
   "execution_count": 7,
   "id": "8acf1822",
   "metadata": {},
   "outputs": [
    {
     "name": "stdout",
     "output_type": "stream",
     "text": [
      "[[0]]\n",
      "[[0]]\n",
      "[[0]]\n",
      "[[1]]\n",
      "[38]\n"
     ]
    }
   ],
   "source": [
    "for i in range(n):\n",
    "    accept=np.random.randint(0,2, size=(1, 1))\n",
    "    if accept==0:\n",
    "        print(accept)\n",
    "        heapq.heappop(cab)\n",
    "    else:\n",
    "        print(accept)\n",
    "        print(cab)\n",
    "        cabDistance=cab[0]\n",
    "        break       "
   ]
  },
  {
   "cell_type": "code",
   "execution_count": 8,
   "id": "f68a57aa",
   "metadata": {},
   "outputs": [
    {
     "name": "stdout",
     "output_type": "stream",
     "text": [
      "source to destination distance  10 meter\n"
     ]
    }
   ],
   "source": [
    "print(\"source to destination distance \",dist[end],\"meter\")"
   ]
  },
  {
   "cell_type": "code",
   "execution_count": 9,
   "id": "3ac323fe",
   "metadata": {},
   "outputs": [
    {
     "name": "stdout",
     "output_type": "stream",
     "text": [
      "source to can distance  38 miter\n"
     ]
    }
   ],
   "source": [
    "print(\"source to cab distance \",cabDistance,\"meter\")"
   ]
  },
  {
   "cell_type": "code",
   "execution_count": 10,
   "id": "db4b3720",
   "metadata": {},
   "outputs": [
    {
     "name": "stdout",
     "output_type": "stream",
     "text": [
      "11\n"
     ]
    }
   ],
   "source": [
    "#add traffic\n",
    "traffic=np.random.randint(0, 50)\n",
    "print(traffic)"
   ]
  },
  {
   "cell_type": "code",
   "execution_count": 11,
   "id": "906ac2ce",
   "metadata": {},
   "outputs": [
    {
     "name": "stdout",
     "output_type": "stream",
     "text": [
      "your driver will reach within  1.225 minutes\n"
     ]
    }
   ],
   "source": [
    "#time to reach driver"
   ]
  },
  {
   "cell_type": "code",
   "execution_count": 1,
   "id": "09d24845",
   "metadata": {},
   "outputs": [],
   "source": [
    "st={}"
   ]
  },
  {
   "cell_type": "code",
   "execution_count": 8,
   "id": "7814cefd",
   "metadata": {},
   "outputs": [],
   "source": [
    "st=np.random.randint(0, 50,size=(1,4))"
   ]
  },
  {
   "cell_type": "code",
   "execution_count": 9,
   "id": "72fbb472",
   "metadata": {},
   "outputs": [
    {
     "name": "stdout",
     "output_type": "stream",
     "text": [
      "[[ 7  8 23 30]]\n"
     ]
    }
   ],
   "source": [
    "print(st)"
   ]
  },
  {
   "cell_type": "code",
   "execution_count": 11,
   "id": "4431f0bd",
   "metadata": {},
   "outputs": [
    {
     "name": "stdout",
     "output_type": "stream",
     "text": [
      "Yes, 'apple' is in this set\n"
     ]
    }
   ],
   "source": [
    "if 8 in st:\n",
    "  print(\"Yes,  is in this set\")"
   ]
  },
  {
   "cell_type": "code",
   "execution_count": null,
   "id": "55040fa5",
   "metadata": {},
   "outputs": [],
   "source": []
  }
 ],
 "metadata": {
  "kernelspec": {
   "display_name": "Python 3 (ipykernel)",
   "language": "python",
   "name": "python3"
  },
  "language_info": {
   "codemirror_mode": {
    "name": "ipython",
    "version": 3
   },
   "file_extension": ".py",
   "mimetype": "text/x-python",
   "name": "python",
   "nbconvert_exporter": "python",
   "pygments_lexer": "ipython3",
   "version": "3.7.11"
  }
 },
 "nbformat": 4,
 "nbformat_minor": 5
}
